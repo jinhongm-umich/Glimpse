{
 "cells": [
  {
   "cell_type": "code",
   "execution_count": 2,
   "metadata": {},
   "outputs": [],
   "source": [
    "from pathlib import Path\n",
    "import numpy as np\n",
    "import pandas as pd\n",
    "from scipy import stats\n",
    "import matplotlib.pyplot as plt\n",
    "from matplotlib import rcParams\n",
    "import os\n",
    "from pathlib import Path\n",
    "\n",
    "import warnings\n",
    "warnings.filterwarnings(\"ignore\", category=UserWarning, module=\"openpyxl\")\n",
    "\n",
    "\n",
    "# Set figure parameters\n",
    "fig_width = 3.25 #ECS spec is 3.25\" width\n",
    "fig_width_2col_inches = 7\n",
    "fig_width_3col_inches = 10\n",
    "fig_height = (3/4)*fig_width # standard ratio\n",
    "\n",
    "rcParams['figure.autolayout'] = True\n",
    "rcParams['lines.linewidth'] = 1.0\n",
    "rcParams['font.size'] = 8\n",
    "rcParams['font.sans-serif'] = 'Arial'\n",
    "rcParams['mathtext.fontset'] = 'custom'\n",
    "rcParams['mathtext.rm'] = 'Arial'\n",
    "rcParams['pdf.fonttype'] = 42\n",
    "rcParams['ps.fonttype'] = 42\n",
    "\n",
    "rcParams['lines.markersize'] = 5\n",
    "rcParams['legend.fontsize'] = 7\n",
    "rcParams['legend.frameon'] = False\n",
    "rcParams['xtick.bottom'] = False\n",
    "rcParams['ytick.direction'] = 'in' \n"
   ]
  },
  {
   "cell_type": "code",
   "execution_count": 4,
   "metadata": {},
   "outputs": [
    {
     "data": {
      "image/png": "[encoded data removed]",
      "text/plain": [
       "<Figure size 325x243.75 with 1 Axes>"
      ]
     },
     "metadata": {},
     "output_type": "display_data"
    }
   ],
   "source": [
    "import pandas as pd\n",
    "import matplotlib.pyplot as plt\n",
    "import os\n",
    "\n",
    "# 현재 파이썬 스크립트 위치 기준으로 '500 cyc' 폴더 경로 설정\n",
    "base_folder_path = os.path.join(os.getcwd(), '500 cyc')\n",
    "\n",
    "# Define the folders (subfolders within '500 cyc')\n",
    "folders = ['1-No-Xray', '2-2min', '3-1hour']\n",
    "colors = ['red', 'blue', 'green']  # Colors for each folder\n",
    "\n",
    "# Function to filter data\n",
    "def filter_data(df):\n",
    "    filtered_df = df[df['Cycle Index'] > -1]\n",
    "    filtered_df.reset_index(drop=True, inplace=True)\n",
    "    return filtered_df\n",
    "\n",
    "# Initialize a figure\n",
    "fig, ax = plt.subplots(figsize=(fig_width, fig_height))\n",
    "\n",
    "for folder, color in zip(folders, colors):\n",
    "    # 폴더 경로 설정\n",
    "    folder_path = os.path.join(base_folder_path, folder)\n",
    "    \n",
    "    # List all Excel files in the folder\n",
    "    files = [f for f in os.listdir(folder_path) if f.endswith('.xlsx')]\n",
    "    files_sort = sorted(files)\n",
    "    \n",
    "    # Initialize a DataFrame to collect all data\n",
    "    all_data = pd.DataFrame()\n",
    "    \n",
    "    for file in files_sort:\n",
    "        file_path = os.path.join(folder_path, file)\n",
    "        # Read the Excel file\n",
    "        df = pd.read_excel(file_path, header=0, sheet_name='cycle')\n",
    "        filtered_df = filter_data(df)\n",
    "        \n",
    "        all_data = pd.concat([all_data, filtered_df], ignore_index=True)\n",
    "    \n",
    "    # Calculate the mean DChg. Cap.(Ah) for each Cycle Index\n",
    "    mean_data = all_data.groupby('Cycle Index')['DChg. Cap.(Ah)'].mean().reset_index()\n",
    "    \n",
    "    # Plot the mean data\n",
    "    plt.plot(mean_data['Cycle Index'], mean_data['DChg. Cap.(Ah)'], color=color, label=folder)\n",
    "\n",
    "# Adjust plot settings\n",
    "ax.set_xlabel('Cycle Index')  # X축 타이틀\n",
    "ax.set_ylabel('Average Discharge Capacity [Ah]')  # Y축 타이틀\n",
    "\n",
    "ax.grid()\n",
    "ax.legend()  # 레전드를 추가\n",
    "\n",
    "# 플롯을 표시\n",
    "plt.show()"
   ]
  }
 ],
 "metadata": {
  "kernelspec": {
   "display_name": "Python 3",
   "language": "python",
   "name": "python3"
  },
  "language_info": {
   "codemirror_mode": {
    "name": "ipython",
    "version": 3
   },
   "file_extension": ".py",
   "mimetype": "text/x-python",
   "name": "python",
   "nbconvert_exporter": "python",
   "pygments_lexer": "ipython3",
   "version": "3.11.9"
  }
 },
 "nbformat": 4,
 "nbformat_minor": 2
}
